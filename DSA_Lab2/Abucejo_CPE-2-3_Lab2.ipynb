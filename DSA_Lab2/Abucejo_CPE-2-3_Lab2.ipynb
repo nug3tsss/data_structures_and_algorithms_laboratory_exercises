{
 "cells": [
  {
   "cell_type": "markdown",
   "id": "4a35f23e",
   "metadata": {},
   "source": [
    "## Laboratory Exercise 2: List Comprehension\n",
    "### Abucejo, Mark Christian S.\n",
    "### BS CPE 2-3"
   ]
  },
  {
   "cell_type": "markdown",
   "id": "71472813",
   "metadata": {},
   "source": [
    "---"
   ]
  },
  {
   "cell_type": "markdown",
   "id": "65f878ad",
   "metadata": {},
   "source": [
    "1. Convert Celsius temperatures to Fahrenheit, only for temps above 0°C\n",
    "\n",
    "    Celsius: [-5, 0, 10, 25, 30, -2, 15, 35]\n",
    "\n",
    "    Fahrenheit (>0°C only): [50.0, 77.0, 86.0, 59.0, 95.0]"
   ]
  },
  {
   "cell_type": "code",
   "execution_count": 44,
   "id": "7816091d",
   "metadata": {},
   "outputs": [
    {
     "name": "stdout",
     "output_type": "stream",
     "text": [
      "Celsius: [-5, 0, 10, 25, 30, -2, 15, 35]\n",
      "Fahrenheit (>0°C only): [50.0, 77.0, 86.0, 59.0, 95.0]\n"
     ]
    }
   ],
   "source": [
    "celsius = [-5, 0, 10, 25, 30, -2, 15, 35]\n",
    "fahrenheit = [((x * 1.8) + 32) for x in celsius if x > 0]\n",
    "\n",
    "print(f\"Celsius: {celsius}\")\n",
    "print(f\"Fahrenheit (>0°C only): {fahrenheit}\")"
   ]
  },
  {
   "cell_type": "markdown",
   "id": "1670aa80",
   "metadata": {},
   "source": [
    "---"
   ]
  },
  {
   "cell_type": "markdown",
   "id": "a77136e3",
   "metadata": {},
   "source": [
    "2. Extract valid numeric grades and categorize them (passing graade is >=80)\n",
    "\n",
    "    Raw grades: ['85', 'invalid', '92', '78', '', '95', 'not_a_grade', '88']\n",
    "\n",
    "    Grade results: ['Pass', 'Pass', 'Fail', 'Pass',  'Pass']"
   ]
  },
  {
   "cell_type": "code",
   "execution_count": 45,
   "id": "b066456c",
   "metadata": {},
   "outputs": [
    {
     "name": "stdout",
     "output_type": "stream",
     "text": [
      "Raw grades: ['85', 'invalid', '92', '78', '', '95', 'not_a_grade', '88']\n",
      "Grade results: ['Pass', 'Pass', 'Fail', 'Pass', 'Pass']\n"
     ]
    }
   ],
   "source": [
    "raw_grades = ['85', 'invalid', '92', '78', '', '95', 'not_a_grade', '88']\n",
    "grade_results = [\"Pass\" if int(x) >= 80 else \"Fail\" for x in raw_grades if x.isdigit()]\n",
    "\n",
    "print(f\"Raw grades: {raw_grades}\")\n",
    "print(f\"Grade results: {grade_results}\")"
   ]
  },
  {
   "cell_type": "markdown",
   "id": "81b87011",
   "metadata": {},
   "source": [
    "---"
   ]
  },
  {
   "cell_type": "markdown",
   "id": "5115dfd7",
   "metadata": {},
   "source": [
    "3. Extract words longer than 4 characters and reverse them\n",
    "\n",
    "    Original: The quick brown fox jumps over the lazy dog\n",
    "\n",
    "    Reversed long words: ['kciuq', 'nworb', 'spmuj']"
   ]
  },
  {
   "cell_type": "code",
   "execution_count": 46,
   "id": "7e7fd915",
   "metadata": {},
   "outputs": [
    {
     "name": "stdout",
     "output_type": "stream",
     "text": [
      "Original: The quick brown fox jumps over the lazy dog\n",
      "Reversed long words: ['kciuq', 'nworb', 'spmuj']\n"
     ]
    }
   ],
   "source": [
    "original_text = \"The quick brown fox jumps over the lazy dog\"\n",
    "reversed_long_words = [x[::-1] for x in original_text.split() if len(x) > 4]\n",
    "\n",
    "print(f\"Original: {original_text}\")\n",
    "print(f\"Reversed long words: {reversed_long_words}\")"
   ]
  },
  {
   "cell_type": "markdown",
   "id": "d5c11f60",
   "metadata": {},
   "source": [
    "---"
   ]
  },
  {
   "cell_type": "markdown",
   "id": "0c81d752",
   "metadata": {},
   "source": [
    "4.  Extract valid email addresses and get their domains\n",
    "\n",
    "    Emails: ['user@gmail.com', 'invalid-email', 'test@yahoo.com', 'bad@', 'admin@company.org', 'no-at-sign.com']\n",
    "\n",
    "    Valid domains: ['gmail.com', 'yahoo.com', 'company.org']"
   ]
  },
  {
   "cell_type": "code",
   "execution_count": 47,
   "id": "de2c6bdc",
   "metadata": {},
   "outputs": [
    {
     "name": "stdout",
     "output_type": "stream",
     "text": [
      "Valid domains: ['gmail.com', 'yahoo.com', 'company.org']\n"
     ]
    }
   ],
   "source": [
    "emails = ['user@gmail.com', 'invalid-email', 'test@yahoo.com', 'bad@', 'admin@company.org', 'no-at-sign.com']\n",
    "valid_domains = [x.split(\"@\")[1] for x in emails if \"@\" in x and x.split(\"@\")[1] and \".\" in x.split(\"@\")[1]]\n",
    "\n",
    "print(f\"Valid domains: {valid_domains}\")"
   ]
  },
  {
   "cell_type": "markdown",
   "id": "f085f2c1",
   "metadata": {},
   "source": [
    "---"
   ]
  },
  {
   "cell_type": "markdown",
   "id": "1ccaf2e0",
   "metadata": {},
   "source": [
    "5. Find perfect squares that are also even, within range 1-100\n",
    "\n",
    "    Even perfect squares (1-100): [4, 16, 36, 64, 100]"
   ]
  },
  {
   "cell_type": "code",
   "execution_count": 48,
   "id": "9865b9af",
   "metadata": {},
   "outputs": [
    {
     "name": "stdout",
     "output_type": "stream",
     "text": [
      "Even perfect squares (1-100): [4, 16, 36, 64, 100]\n"
     ]
    }
   ],
   "source": [
    "import math\n",
    "\n",
    "even_perfect_squares = [x for x in range(1, 101) if x % 2 == 0 and math.isqrt(x) ** 2 == x]\n",
    "\n",
    "print(f\"Even perfect squares (1-100): {even_perfect_squares}\")"
   ]
  },
  {
   "cell_type": "markdown",
   "id": "a35a7fa1",
   "metadata": {},
   "source": [
    "---"
   ]
  }
 ],
 "metadata": {
  "kernelspec": {
   "display_name": "Python 3",
   "language": "python",
   "name": "python3"
  },
  "language_info": {
   "codemirror_mode": {
    "name": "ipython",
    "version": 3
   },
   "file_extension": ".py",
   "mimetype": "text/x-python",
   "name": "python",
   "nbconvert_exporter": "python",
   "pygments_lexer": "ipython3",
   "version": "3.12.6"
  }
 },
 "nbformat": 4,
 "nbformat_minor": 5
}
